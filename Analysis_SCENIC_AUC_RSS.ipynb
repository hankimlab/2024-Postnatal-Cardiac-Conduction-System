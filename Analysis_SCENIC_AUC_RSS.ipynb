{
 "cells": [
  {
   "cell_type": "code",
   "execution_count": 2,
   "id": "08923cf3-4e2c-494e-9fab-ab7705b7fa61",
   "metadata": {},
   "outputs": [],
   "source": [
    "import loompy as lp\n",
    "import pandas as pd\n",
    "loom = lp.connect(\"ccs_aucell_10kb_500bp_min10pct_repress_mingenes5_activatingonly.loom\", mode='r+', validate=False)\n",
    "auc_mtx = pd.DataFrame(loom.ca.RegulonsAUC, index=loom.ca.CellID)"
   ]
  },
  {
   "cell_type": "code",
   "execution_count": 16,
   "id": "6dd3bba1-e8f3-4876-abdd-6da57e4bf671",
   "metadata": {},
   "outputs": [],
   "source": [
    "auc_mtx.to_csv(\"ccs_10kb_500bp_min10pct_repress_mingenes5_activatingonly_aucmtx.csv\")"
   ]
  },
  {
   "cell_type": "code",
   "execution_count": 4,
   "id": "d5a663b3-ea15-4a74-9abc-534869881ae8",
   "metadata": {},
   "outputs": [],
   "source": [
    "from math import sqrt\n",
    "\n",
    "import numpy as np\n",
    "from scipy.spatial.distance import jensenshannon\n",
    "\n",
    "\n",
    "def regulon_specificity_scores(auc_mtx, cell_type_series):\n",
    "    \"\"\"\n",
    "    Calculates the Regulon Specificty Scores (RSS). [doi: 10.1016/j.celrep.2018.10.045]\n",
    "\n",
    "    :param auc_mtx: The dataframe with the AUC values for all cells and regulons (n_cells x n_regulons).\n",
    "    :param cell_type_series: A pandas Series object with cell identifiers as index and cell type labels as values.\n",
    "    :return: A pandas dataframe with the RSS values (cell type x regulon).\n",
    "    \"\"\"\n",
    "\n",
    "    cell_types = list(cell_type_series.unique())\n",
    "    n_types = len(cell_types)\n",
    "    regulons = list(auc_mtx.columns)\n",
    "    n_regulons = len(regulons)\n",
    "    rss_values = np.empty(shape=(n_types, n_regulons), dtype=np.float32)\n",
    "\n",
    "    def rss(aucs, labels):\n",
    "        # jensenshannon function provides distance which is the sqrt of the JS divergence.\n",
    "        return 1.0 - jensenshannon(aucs / aucs.sum(), labels / labels.sum())\n",
    "\n",
    "    for cidx, regulon_name in enumerate(regulons):\n",
    "        for ridx, cell_type in enumerate(cell_types):\n",
    "            rss_values[ridx, cidx] = rss(\n",
    "                auc_mtx[regulon_name], (cell_type_series == cell_type).astype(int)\n",
    "            )\n",
    "\n",
    "    return pd.DataFrame(data=rss_values, index=cell_types, columns=regulons)"
   ]
  },
  {
   "cell_type": "code",
   "execution_count": 5,
   "id": "71f10df5-7be1-4ffb-bdd0-a076c2ada38e",
   "metadata": {},
   "outputs": [],
   "source": [
    "meta = pd.read_csv(\"ccs_meta.csv\", index_col=0)"
   ]
  },
  {
   "cell_type": "code",
   "execution_count": 15,
   "id": "3c8a8dfc-b70e-4fbc-9b03-61795ad19d59",
   "metadata": {},
   "outputs": [],
   "source": [
    "rss = regulon_specificity_scores(auc_mtx, meta[\"sub_all_onehis\"])"
   ]
  },
  {
   "cell_type": "code",
   "execution_count": 17,
   "id": "3cd1a28a-c9e4-4e63-a132-9cebef110521",
   "metadata": {},
   "outputs": [],
   "source": [
    "rss.to_csv(\"ccs_10kb_500bp_min10pct_repress_mingenes5_activatingonly_rss_sub_all_onehis.csv\")"
   ]
  }
 ],
 "metadata": {
  "kernelspec": {
   "display_name": "Python 3",
   "language": "python",
   "name": "python3"
  },
  "language_info": {
   "codemirror_mode": {
    "name": "ipython",
    "version": 3
   },
   "file_extension": ".py",
   "mimetype": "text/x-python",
   "name": "python",
   "nbconvert_exporter": "python",
   "pygments_lexer": "ipython3",
   "version": "3.10.12"
  }
 },
 "nbformat": 4,
 "nbformat_minor": 5
}
